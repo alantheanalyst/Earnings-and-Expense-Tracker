{
    "metadata": {
        "kernelspec": {
            "name": "SQL",
            "display_name": "SQL",
            "language": "sql"
        },
        "language_info": {
            "name": "sql",
            "version": ""
        }
    },
    "nbformat_minor": 2,
    "nbformat": 4,
    "cells": [
        {
            "cell_type": "markdown",
            "source": [
                "**Removing December from financial data from 2023**"
            ],
            "metadata": {
                "azdata_cell_guid": "c4bc6bfb-6a7c-4127-a5a9-7950d50638a2"
            },
            "attachments": {}
        },
        {
            "cell_type": "code",
            "source": [
                "begin transaction \r\n",
                "delete from CaptiolOne2023\r\n",
                "where month(Posted_Date) = '12'\r\n",
                "commit\r\n",
                "\r\n",
                "begin transaction \r\n",
                "delete from Chase2023\r\n",
                "where month(Posting_Date) = '12'\r\n",
                "commit"
            ],
            "metadata": {
                "azdata_cell_guid": "c232ce78-fef3-43a0-bf07-78e50ea76e10",
                "language": "sql"
            },
            "outputs": [],
            "execution_count": null
        },
        {
            "cell_type": "markdown",
            "source": [
                "**Finances 2022**"
            ],
            "metadata": {
                "language": "sql",
                "azdata_cell_guid": "dd563366-dbf0-4e26-bcdb-9d2073256f84"
            },
            "attachments": {}
        },
        {
            "cell_type": "code",
            "source": [
                "with cte as (\r\n",
                "select \r\n",
                "month(Posting_Date) as Month,\r\n",
                "sum(\r\n",
                "case when Amount > 0 then cast(Amount as int) else 0\r\n",
                "end) as Earnings,\r\n",
                "sum(\r\n",
                "case when Amount < 0 then abs(cast(Amount as int)) else 0\r\n",
                "end) as Expenses\r\n",
                "from Chase2022\r\n",
                "group by month(Posting_Date)\r\n",
                "), cte_2 as (\r\n",
                "select \r\n",
                "month(Posted_Date) as Month,\r\n",
                "cast(sum(Debit) as int) as Expenses\r\n",
                "from CapitolOne2022\r\n",
                "group by month(Posted_Date)\r\n",
                ")\r\n",
                "select \r\n",
                "a.Month,\r\n",
                "Earnings,\r\n",
                "a.Expenses + b.Expenses as Expenses\r\n",
                "into finances_2022\r\n",
                "from cte a join cte_2 b\r\n",
                "on a.Month = b.Month"
            ],
            "metadata": {
                "azdata_cell_guid": "ae71cfaf-b2a5-4b33-ae75-6c5abbaaa177",
                "language": "sql"
            },
            "outputs": [],
            "execution_count": null
        },
        {
            "cell_type": "code",
            "source": [
                "select *\r\n",
                "from finances_2022"
            ],
            "metadata": {
                "language": "sql",
                "azdata_cell_guid": "47fc33c2-9a9f-4c03-ad3a-83e3617bf096"
            },
            "outputs": [
                {
                    "output_type": "display_data",
                    "data": {
                        "text/html": "(12 rows affected)"
                    },
                    "metadata": {}
                },
                {
                    "output_type": "display_data",
                    "data": {
                        "text/html": "Total execution time: 00:00:00.114"
                    },
                    "metadata": {}
                },
                {
                    "output_type": "execute_result",
                    "execution_count": 1,
                    "data": {
                        "application/vnd.dataresource+json": {
                            "schema": {
                                "fields": [
                                    {
                                        "name": "Month"
                                    },
                                    {
                                        "name": "Earnings"
                                    },
                                    {
                                        "name": "Expenses"
                                    }
                                ]
                            },
                            "data": [
                                {
                                    "Month": "1",
                                    "Earnings": "1395",
                                    "Expenses": "840"
                                },
                                {
                                    "Month": "2",
                                    "Earnings": "1469",
                                    "Expenses": "1021"
                                },
                                {
                                    "Month": "3",
                                    "Earnings": "1258",
                                    "Expenses": "887"
                                },
                                {
                                    "Month": "4",
                                    "Earnings": "1547",
                                    "Expenses": "1118"
                                },
                                {
                                    "Month": "5",
                                    "Earnings": "1653",
                                    "Expenses": "2366"
                                },
                                {
                                    "Month": "6",
                                    "Earnings": "4049",
                                    "Expenses": "1660"
                                },
                                {
                                    "Month": "7",
                                    "Earnings": "3029",
                                    "Expenses": "1711"
                                },
                                {
                                    "Month": "8",
                                    "Earnings": "2002",
                                    "Expenses": "1999"
                                },
                                {
                                    "Month": "9",
                                    "Earnings": "2189",
                                    "Expenses": "1369"
                                },
                                {
                                    "Month": "10",
                                    "Earnings": "2475",
                                    "Expenses": "1835"
                                },
                                {
                                    "Month": "11",
                                    "Earnings": "2118",
                                    "Expenses": "2502"
                                },
                                {
                                    "Month": "12",
                                    "Earnings": "3465",
                                    "Expenses": "1742"
                                }
                            ]
                        },
                        "text/html": "<table><tr><th>Month</th><th>Earnings</th><th>Expenses</th></tr><tr><td>1</td><td>1395</td><td>840</td></tr><tr><td>2</td><td>1469</td><td>1021</td></tr><tr><td>3</td><td>1258</td><td>887</td></tr><tr><td>4</td><td>1547</td><td>1118</td></tr><tr><td>5</td><td>1653</td><td>2366</td></tr><tr><td>6</td><td>4049</td><td>1660</td></tr><tr><td>7</td><td>3029</td><td>1711</td></tr><tr><td>8</td><td>2002</td><td>1999</td></tr><tr><td>9</td><td>2189</td><td>1369</td></tr><tr><td>10</td><td>2475</td><td>1835</td></tr><tr><td>11</td><td>2118</td><td>2502</td></tr><tr><td>12</td><td>3465</td><td>1742</td></tr></table>"
                    },
                    "metadata": {}
                }
            ],
            "execution_count": 1
        },
        {
            "cell_type": "markdown",
            "source": [
                "**Finances 2023**"
            ],
            "metadata": {
                "azdata_cell_guid": "45620196-f9bc-4614-bc0e-7c49ec01fd57"
            },
            "attachments": {}
        },
        {
            "cell_type": "code",
            "source": [
                "with cte_1 as (\r\n",
                "select \r\n",
                "month(Posting_Date) as Month,\r\n",
                "sum(case\r\n",
                "\twhen Amount > 0 then cast(Amount as int) else 0\r\n",
                "end) Earnings,\r\n",
                "sum(case\r\n",
                "\twhen Amount < 0 then abs(cast(Amount as int)) else 0\r\n",
                "end) as Expenses\r\n",
                "from Chase2023 \r\n",
                "group by month(Posting_Date)\r\n",
                "union\r\n",
                "select\r\n",
                "month(Posting_Date) as Month,\r\n",
                "sum(case\r\n",
                "\twhen Amount > 0 then cast(Amount as int) else 0\r\n",
                "end) Earnings,\r\n",
                "sum(case\r\n",
                "\twhen Amount < 0 then abs(cast(Amount as int)) else 0\r\n",
                "end) as Expenses\r\n",
                "from Chase_12\r\n",
                "group by month(Posting_Date)\r\n",
                "), cte_2 as (\r\n",
                "select \r\n",
                "month(Posted_Date) as Month,\r\n",
                "sum(cast(Debit as int)) as Expenses\r\n",
                "from CaptiolOne2023\r\n",
                "group by month(Posted_Date)\r\n",
                "union \r\n",
                "select \r\n",
                "month(Posted_Date) as Month,\r\n",
                "sum(cast(Debit as int)) as Expenses\r\n",
                "from Capitol_One_12\r\n",
                "group by month(Posted_Date)\r\n",
                ")\r\n",
                "select \r\n",
                "a.Month,\r\n",
                "Earnings,\r\n",
                "a.Expenses + b.Expenses as Expenses\r\n",
                "into finances_2023\r\n",
                "from cte_1 a join cte_2 b\r\n",
                "on a.Month = b.Month"
            ],
            "metadata": {
                "azdata_cell_guid": "6269ec1f-5cd5-4d6e-bf7e-33289bebf184",
                "language": "sql"
            },
            "outputs": [],
            "execution_count": null
        },
        {
            "cell_type": "code",
            "source": [
                "select *\r\n",
                "from finances_2023"
            ],
            "metadata": {
                "azdata_cell_guid": "452928b0-2117-4bfd-ab64-7befebbbb286",
                "language": "sql"
            },
            "outputs": [
                {
                    "output_type": "display_data",
                    "data": {
                        "text/html": "(12 rows affected)"
                    },
                    "metadata": {}
                },
                {
                    "output_type": "display_data",
                    "data": {
                        "text/html": "Total execution time: 00:00:00.048"
                    },
                    "metadata": {}
                },
                {
                    "output_type": "execute_result",
                    "execution_count": 2,
                    "data": {
                        "application/vnd.dataresource+json": {
                            "schema": {
                                "fields": [
                                    {
                                        "name": "Month"
                                    },
                                    {
                                        "name": "Earnings"
                                    },
                                    {
                                        "name": "Expenses"
                                    }
                                ]
                            },
                            "data": [
                                {
                                    "Month": "1",
                                    "Earnings": "4039",
                                    "Expenses": "3605"
                                },
                                {
                                    "Month": "2",
                                    "Earnings": "2098",
                                    "Expenses": "1830"
                                },
                                {
                                    "Month": "3",
                                    "Earnings": "1900",
                                    "Expenses": "1173"
                                },
                                {
                                    "Month": "4",
                                    "Earnings": "2219",
                                    "Expenses": "2428"
                                },
                                {
                                    "Month": "5",
                                    "Earnings": "1955",
                                    "Expenses": "2773"
                                },
                                {
                                    "Month": "6",
                                    "Earnings": "3819",
                                    "Expenses": "3845"
                                },
                                {
                                    "Month": "7",
                                    "Earnings": "2051",
                                    "Expenses": "2300"
                                },
                                {
                                    "Month": "8",
                                    "Earnings": "2068",
                                    "Expenses": "3106"
                                },
                                {
                                    "Month": "9",
                                    "Earnings": "5010",
                                    "Expenses": "3122"
                                },
                                {
                                    "Month": "10",
                                    "Earnings": "2707",
                                    "Expenses": "3205"
                                },
                                {
                                    "Month": "11",
                                    "Earnings": "1790",
                                    "Expenses": "4094"
                                },
                                {
                                    "Month": "12",
                                    "Earnings": "2953",
                                    "Expenses": "3640"
                                }
                            ]
                        },
                        "text/html": "<table><tr><th>Month</th><th>Earnings</th><th>Expenses</th></tr><tr><td>1</td><td>4039</td><td>3605</td></tr><tr><td>2</td><td>2098</td><td>1830</td></tr><tr><td>3</td><td>1900</td><td>1173</td></tr><tr><td>4</td><td>2219</td><td>2428</td></tr><tr><td>5</td><td>1955</td><td>2773</td></tr><tr><td>6</td><td>3819</td><td>3845</td></tr><tr><td>7</td><td>2051</td><td>2300</td></tr><tr><td>8</td><td>2068</td><td>3106</td></tr><tr><td>9</td><td>5010</td><td>3122</td></tr><tr><td>10</td><td>2707</td><td>3205</td></tr><tr><td>11</td><td>1790</td><td>4094</td></tr><tr><td>12</td><td>2953</td><td>3640</td></tr></table>"
                    },
                    "metadata": {}
                }
            ],
            "execution_count": 2
        },
        {
            "cell_type": "markdown",
            "source": [
                "**Total Finances 2022 & 2023**"
            ],
            "metadata": {
                "azdata_cell_guid": "3c3d0d23-e198-4b0b-8a5f-085d4226aa14"
            },
            "attachments": {}
        },
        {
            "cell_type": "code",
            "source": [
                "select '2022' as 'Year',\r\n",
                "sum(Earnings) as 'Total Earnings',\r\n",
                "sum(Expenses) as 'Total Expenses'\r\n",
                "into total_finances\r\n",
                "from finances_2022\r\n",
                "union\r\n",
                "select '2023' as 'Year',\r\n",
                "sum(Earnings) as 'Total Earnings',\r\n",
                "sum(Expenses) as 'Total Expenses'\r\n",
                "from finances_2023"
            ],
            "metadata": {
                "azdata_cell_guid": "550869b7-1335-47a4-a1bd-71e4f9e23c64",
                "language": "sql"
            },
            "outputs": [],
            "execution_count": null
        },
        {
            "cell_type": "code",
            "source": [
                "select *\r\n",
                "from total_finances"
            ],
            "metadata": {
                "language": "sql",
                "azdata_cell_guid": "a5fe5ec2-bd50-4819-af49-fed78f2f4ea9"
            },
            "outputs": [
                {
                    "output_type": "display_data",
                    "data": {
                        "text/html": "(2 rows affected)"
                    },
                    "metadata": {}
                },
                {
                    "output_type": "display_data",
                    "data": {
                        "text/html": "Total execution time: 00:00:00.019"
                    },
                    "metadata": {}
                },
                {
                    "output_type": "execute_result",
                    "metadata": {},
                    "execution_count": 11,
                    "data": {
                        "application/vnd.dataresource+json": {
                            "schema": {
                                "fields": [
                                    {
                                        "name": "Year"
                                    },
                                    {
                                        "name": "Total Earnings"
                                    },
                                    {
                                        "name": "Total Expenses"
                                    }
                                ]
                            },
                            "data": [
                                {
                                    "Year": "2022",
                                    "Total Earnings": "26649",
                                    "Total Expenses": "19050"
                                },
                                {
                                    "Year": "2023",
                                    "Total Earnings": "32609",
                                    "Total Expenses": "35121"
                                }
                            ]
                        },
                        "text/html": [
                            "<table>",
                            "<tr><th>Year</th><th>Total Earnings</th><th>Total Expenses</th></tr>",
                            "<tr><td>2022</td><td>26649</td><td>19050</td></tr>",
                            "<tr><td>2023</td><td>32609</td><td>35121</td></tr>",
                            "</table>"
                        ]
                    }
                }
            ],
            "execution_count": 11
        },
        {
            "cell_type": "markdown",
            "source": [
                "**All Finances**"
            ],
            "metadata": {
                "azdata_cell_guid": "1596e89e-879a-42f1-85e1-c023864a3b67"
            },
            "attachments": {}
        },
        {
            "cell_type": "code",
            "source": [
                "select \r\n",
                "datename(month, dateadd(month, Month -1, '19000101')) as Month,\r\n",
                "'2022' as 'Year',\r\n",
                "Earnings,\r\n",
                "Expenses\r\n",
                "into finances\r\n",
                "from finances_2022\r\n",
                "union all \r\n",
                "select \r\n",
                "datename(month, dateadd(month, Month -1, '19000101')) as Month,\r\n",
                "'2023' as 'Year',\r\n",
                "Earnings,\r\n",
                "Expenses\r\n",
                "from finances_2023\r\n",
                "union all\r\n",
                "select \r\n",
                "'Total',\r\n",
                "Year,\r\n",
                "[Total Earnings],\r\n",
                "[Total Expenses]\r\n",
                "from total_finances"
            ],
            "metadata": {
                "language": "sql",
                "azdata_cell_guid": "999d4b94-beb6-410f-b216-62dbf6e547b0"
            },
            "outputs": [
                {
                    "output_type": "display_data",
                    "data": {
                        "text/html": "(26 rows affected)"
                    },
                    "metadata": {}
                },
                {
                    "output_type": "display_data",
                    "data": {
                        "text/html": "Total execution time: 00:00:00.022"
                    },
                    "metadata": {}
                }
            ],
            "execution_count": 15
        },
        {
            "cell_type": "code",
            "source": [
                "select *\r\n",
                "from finances"
            ],
            "metadata": {
                "azdata_cell_guid": "fadac134-6a72-44ee-810f-999cd88b4438",
                "language": "sql"
            },
            "outputs": [
                {
                    "output_type": "display_data",
                    "data": {
                        "text/html": "(26 rows affected)"
                    },
                    "metadata": {}
                },
                {
                    "output_type": "display_data",
                    "data": {
                        "text/html": "Total execution time: 00:00:00.014"
                    },
                    "metadata": {}
                },
                {
                    "output_type": "execute_result",
                    "metadata": {},
                    "execution_count": 16,
                    "data": {
                        "application/vnd.dataresource+json": {
                            "schema": {
                                "fields": [
                                    {
                                        "name": "Month"
                                    },
                                    {
                                        "name": "Year"
                                    },
                                    {
                                        "name": "Earnings"
                                    },
                                    {
                                        "name": "Expenses"
                                    }
                                ]
                            },
                            "data": [
                                {
                                    "Month": "January",
                                    "Year": "2022",
                                    "Earnings": "1395",
                                    "Expenses": "840"
                                },
                                {
                                    "Month": "February",
                                    "Year": "2022",
                                    "Earnings": "1469",
                                    "Expenses": "1021"
                                },
                                {
                                    "Month": "March",
                                    "Year": "2022",
                                    "Earnings": "1258",
                                    "Expenses": "887"
                                },
                                {
                                    "Month": "April",
                                    "Year": "2022",
                                    "Earnings": "1547",
                                    "Expenses": "1118"
                                },
                                {
                                    "Month": "May",
                                    "Year": "2022",
                                    "Earnings": "1653",
                                    "Expenses": "2366"
                                },
                                {
                                    "Month": "June",
                                    "Year": "2022",
                                    "Earnings": "4049",
                                    "Expenses": "1660"
                                },
                                {
                                    "Month": "July",
                                    "Year": "2022",
                                    "Earnings": "3029",
                                    "Expenses": "1711"
                                },
                                {
                                    "Month": "August",
                                    "Year": "2022",
                                    "Earnings": "2002",
                                    "Expenses": "1999"
                                },
                                {
                                    "Month": "September",
                                    "Year": "2022",
                                    "Earnings": "2189",
                                    "Expenses": "1369"
                                },
                                {
                                    "Month": "October",
                                    "Year": "2022",
                                    "Earnings": "2475",
                                    "Expenses": "1835"
                                },
                                {
                                    "Month": "November",
                                    "Year": "2022",
                                    "Earnings": "2118",
                                    "Expenses": "2502"
                                },
                                {
                                    "Month": "December",
                                    "Year": "2022",
                                    "Earnings": "3465",
                                    "Expenses": "1742"
                                },
                                {
                                    "Month": "January",
                                    "Year": "2023",
                                    "Earnings": "4039",
                                    "Expenses": "3605"
                                },
                                {
                                    "Month": "February",
                                    "Year": "2023",
                                    "Earnings": "2098",
                                    "Expenses": "1830"
                                },
                                {
                                    "Month": "March",
                                    "Year": "2023",
                                    "Earnings": "1900",
                                    "Expenses": "1173"
                                },
                                {
                                    "Month": "April",
                                    "Year": "2023",
                                    "Earnings": "2219",
                                    "Expenses": "2428"
                                },
                                {
                                    "Month": "May",
                                    "Year": "2023",
                                    "Earnings": "1955",
                                    "Expenses": "2773"
                                },
                                {
                                    "Month": "June",
                                    "Year": "2023",
                                    "Earnings": "3819",
                                    "Expenses": "3845"
                                },
                                {
                                    "Month": "July",
                                    "Year": "2023",
                                    "Earnings": "2051",
                                    "Expenses": "2300"
                                },
                                {
                                    "Month": "August",
                                    "Year": "2023",
                                    "Earnings": "2068",
                                    "Expenses": "3106"
                                },
                                {
                                    "Month": "September",
                                    "Year": "2023",
                                    "Earnings": "5010",
                                    "Expenses": "3122"
                                },
                                {
                                    "Month": "October",
                                    "Year": "2023",
                                    "Earnings": "2707",
                                    "Expenses": "3205"
                                },
                                {
                                    "Month": "November",
                                    "Year": "2023",
                                    "Earnings": "1790",
                                    "Expenses": "4094"
                                },
                                {
                                    "Month": "December",
                                    "Year": "2023",
                                    "Earnings": "2953",
                                    "Expenses": "3640"
                                },
                                {
                                    "Month": "Total",
                                    "Year": "2022",
                                    "Earnings": "26649",
                                    "Expenses": "19050"
                                },
                                {
                                    "Month": "Total",
                                    "Year": "2023",
                                    "Earnings": "32609",
                                    "Expenses": "35121"
                                }
                            ]
                        },
                        "text/html": [
                            "<table>",
                            "<tr><th>Month</th><th>Year</th><th>Earnings</th><th>Expenses</th></tr>",
                            "<tr><td>January</td><td>2022</td><td>1395</td><td>840</td></tr>",
                            "<tr><td>February</td><td>2022</td><td>1469</td><td>1021</td></tr>",
                            "<tr><td>March</td><td>2022</td><td>1258</td><td>887</td></tr>",
                            "<tr><td>April</td><td>2022</td><td>1547</td><td>1118</td></tr>",
                            "<tr><td>May</td><td>2022</td><td>1653</td><td>2366</td></tr>",
                            "<tr><td>June</td><td>2022</td><td>4049</td><td>1660</td></tr>",
                            "<tr><td>July</td><td>2022</td><td>3029</td><td>1711</td></tr>",
                            "<tr><td>August</td><td>2022</td><td>2002</td><td>1999</td></tr>",
                            "<tr><td>September</td><td>2022</td><td>2189</td><td>1369</td></tr>",
                            "<tr><td>October</td><td>2022</td><td>2475</td><td>1835</td></tr>",
                            "<tr><td>November</td><td>2022</td><td>2118</td><td>2502</td></tr>",
                            "<tr><td>December</td><td>2022</td><td>3465</td><td>1742</td></tr>",
                            "<tr><td>January</td><td>2023</td><td>4039</td><td>3605</td></tr>",
                            "<tr><td>February</td><td>2023</td><td>2098</td><td>1830</td></tr>",
                            "<tr><td>March</td><td>2023</td><td>1900</td><td>1173</td></tr>",
                            "<tr><td>April</td><td>2023</td><td>2219</td><td>2428</td></tr>",
                            "<tr><td>May</td><td>2023</td><td>1955</td><td>2773</td></tr>",
                            "<tr><td>June</td><td>2023</td><td>3819</td><td>3845</td></tr>",
                            "<tr><td>July</td><td>2023</td><td>2051</td><td>2300</td></tr>",
                            "<tr><td>August</td><td>2023</td><td>2068</td><td>3106</td></tr>",
                            "<tr><td>September</td><td>2023</td><td>5010</td><td>3122</td></tr>",
                            "<tr><td>October</td><td>2023</td><td>2707</td><td>3205</td></tr>",
                            "<tr><td>November</td><td>2023</td><td>1790</td><td>4094</td></tr>",
                            "<tr><td>December</td><td>2023</td><td>2953</td><td>3640</td></tr>",
                            "<tr><td>Total</td><td>2022</td><td>26649</td><td>19050</td></tr>",
                            "<tr><td>Total</td><td>2023</td><td>32609</td><td>35121</td></tr>",
                            "</table>"
                        ]
                    }
                }
            ],
            "execution_count": 16
        }
    ]
}
